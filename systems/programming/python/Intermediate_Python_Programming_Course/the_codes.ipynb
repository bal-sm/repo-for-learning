{
 "cells": [
  {
   "cell_type": "code",
   "execution_count": null,
   "metadata": {},
   "outputs": [],
   "source": [
    "list_full_of_numbers = [92, 941, -42, -1345, 34, 435]\n",
    "list_full_of_fruits = [\"avocado\", \"kiwi\", \"mango\", \"apple\"]"
   ]
  },
  {
   "cell_type": "markdown",
   "metadata": {},
   "source": [
    "hm.. belum bisa soalnya belum install `python-ipykernel` for my Fedora Kinoite installation. yes AING MASIH MISKIN, PAKE LINUX ANJING, good experience daripada Windows yang sangat buggy pisan golbog."
   ]
  }
 ],
 "metadata": {
  "kernelspec": {
   "display_name": "Python 3",
   "language": "python",
   "name": "python3"
  },
  "language_info": {
   "name": "python",
   "version": "3.11.4"
  },
  "orig_nbformat": 4
 },
 "nbformat": 4,
 "nbformat_minor": 2
}
